{
 "cells": [
  {
   "cell_type": "markdown",
   "id": "cddf5de3-a9f3-4471-bbaf-aca41a70ce89",
   "metadata": {},
   "source": [
    "### INST326 OOP Project 03"
   ]
  },
  {
   "cell_type": "markdown",
   "id": "2bb7f115-9eba-4f29-918e-b016e6a7edc8",
   "metadata": {},
   "source": [
    "Rename this notebook, replacing \"_Assignment\" with \"_YourName\"<br>\n",
    "Insert Signature Block Here"
   ]
  },
  {
   "cell_type": "markdown",
   "id": "8ee05bdb-db2d-41c2-9f23-3af75d058612",
   "metadata": {},
   "source": [
    "### The Project\n",
    "Everyone will do the same project this time. This is a group project, so you must work in your assigned groups. Include the link to your group's GitHub repository (one link per group). Use comments in your code to document your solution. If you need to write comments to the grader, add a markdown cell immediately above your code solution and add your comments there. Be sure to read and follow all the requirements and the Notebook Instructions at the bottom of this notebook. Your grade may depend on it!"
   ]
  },
  {
   "cell_type": "markdown",
   "id": "a1c98e85-2c64-4a03-8309-d91035cca6d2",
   "metadata": {},
   "source": [
    "#### 1. A Scheduling Program\r",
    ">  My wife is responsible for scheduling caregivers for her 93 year-old mother. Currently she writes out the schedule on a monthly calendar and photocopies it for everyone. I want all of you to help me write a program to help her with scheduling. While this is a specific application, this program will be broadly useful and adaptable to any scheduling needs for small businesses, clubs, and more."
   ]
  },
  {
   "cell_type": "markdown",
   "id": "28b28d8a-dbb3-4f15-bbe0-e14504b84876",
   "metadata": {},
   "source": [
    "#### Requirements\n",
    ">  Care is required 12 hours per day, 7 days a week. There are two shifts each day: 7:00 AM - 1:00 PM, and 1:00 PM to 7:00 PM. There are a total of 8 caregivers. Some are family members and some are paid. Each caregiver has their own availability for shifts that is generally the same from month to month, but there are exceptions for work, vacations, and other responsibilities. Your program should do the following:\n",
    "> 1. Manage caregivers and their schedules. Attributes include: name, phone, email, pay rate, and hours.\n",
    "> 2. Each caregiver should have their own availability schedule where they can indicate their availability for each shift. Availability categories are 'preferred', 'available' (default), and 'unavailable'.\n",
    "> 3. Create a care schedule that covers AM and PM shifts and displays caregiver names on a calendar (see example). The schedule should accomodate caregivers' individual schedules and availability preferences. The python calendar module provides options for creating HTML calendars. Sample code for the HTML calendar is in the project folder.\n",
    "> 4. Paid caregivers are paid weekly at $20/hr. Your program should calculate weekly pay based on assigned hours. Provide a separate pay report that lists weekly (gross: hours x rate) amounts to each caregiver, along with weekly and monthly totals. The report can be a text document, or presented in GUI or HTML format. "
   ]
  },
  {
   "cell_type": "markdown",
   "id": "6708f6cf-aac7-430e-947d-6f9c8dd161f6",
   "metadata": {
    "jp-MarkdownHeadingCollapsed": true
   },
   "source": [
    "#### Group Requirements\n",
    ">  1. Your submitted project should follow OOP principles like abstraction, encapsulation, inheritance, and polymorphism as appropriate. Your program should use classes. \n",
    ">  2. Select a group leader who will host the group's project repository on their GitHub.\n",
    ">  3. Create the group repository and add a main program document. See example.\n",
    ">  4. Create branches off the main program for each group member, and assign part of the program to each member.\n",
    ">  5. Each member should work on their branch.\n",
    ">  6. When each member is finished, merge the branches back into the main program. You may use 'merge' or 'pull requests', your choice.\n",
    ">  7. iterate and debug as necessary."
   ]
  },
  {
   "cell_type": "markdown",
   "id": "71b8f18e-607a-4c94-81a3-ebbc488ba8c6",
   "metadata": {},
   "source": [
    "#### Working with HTML\n",
    "> Since this is a course on python, not HTML, you are not expected to know HTML. Therefore, you may copy applicable portions of the sample code or use AI to write the HTML portions of your application. Ypu should write the main python code yourself.\n"
   ]
  },
  {
   "cell_type": "markdown",
   "id": "fc336368-4292-42af-aa60-06b27ff6b303",
   "metadata": {
    "jp-MarkdownHeadingCollapsed": true
   },
   "source": [
    "#### What you need to turn in\n",
    ">  This is a group project. There will be one submission per group. Your submission will be graded as a group.\n",
    ">  1. Include your group number and the names of all group members in the signature block at the top of this notebook.\n",
    ">  2. In the cell below, paste the link to your project repository. One link per group. The grader will review the activity and history provided by GitHub. To add a hyperlink to a Jupyter markdown cell, follow the instructions in the cell below.\n",
    ">  3. Below the GitHub Repository Link cell is a code cell. Copy and paste your final program code into this cell."
   ]
  },
  {
   "cell_type": "markdown",
   "id": "3ece03e6-a41f-484d-8417-d8c4e156b2c0",
   "metadata": {},
   "source": [
    "#### GitHub Repository Link\n",
    "> Example: [INST326_Fall2024/Projects/Project03](https://github.com/sdempwolf/INST326_Fall_2024/tree/main/Projects/Project03)\n",
    ">\n",
    "> Edit the link code below with your information, then run this cell. Test the link! It should take you to your GitHub project repository.\n",
    "> [external link text](http://url_here)"
   ]
  },
  {
   "cell_type": "code",
   "execution_count": 21,
   "id": "cb35b908-6683-4144-816c-051715925504",
   "metadata": {},
   "outputs": [],
   "source": [
    "import calendar\n",
    "from datetime import datetime\n",
    "\n",
    "# Caregiver class to store caregiver details and availability\n",
    "class Caregiver:\n",
    "    def __init__(self, name, phone, email, pay_rate=20):\n",
    "        self.name = name\n",
    "        self.phone = phone\n",
    "        self.email = email\n",
    "        self.pay_rate = pay_rate  # $20 per hour for paid caregivers\n",
    "        self.hours_worked = 0\n",
    "        self.availability = {'AM': {}, 'PM': {}}  # Availability for AM and PM shifts\n",
    "        \n",
    "    def set_availability(self, day, shift, availability):\n",
    "        \"\"\"Sets caregiver's availability for a specific shift on a given day.\"\"\"\n",
    "        self.availability[shift][day] = availability\n",
    "        \n",
    "    def update_hours(self, hours):\n",
    "        \"\"\"Update the hours worked by the caregiver.\"\"\"\n",
    "        self.hours_worked += hours\n",
    "\n",
    "    def calculate_weekly_pay(self):\n",
    "        \"\"\"Calculates weekly pay based on hours worked.\"\"\"\n",
    "        return self.hours_worked * self.pay_rate\n",
    "\n",
    "    def reset_hours(self):\n",
    "        \"\"\"Resets the hours worked after weekly calculation.\"\"\"\n",
    "        self.hours_worked = 0\n",
    "\n",
    "# Function to get the caregiver's availability for the given week\n",
    "def get_caregiver_availability(caregiver, year, month, week_days):\n",
    "    \"\"\"Prompts the caregiver to set availability for the specified days of the week.\"\"\"\n",
    "    print(f\"\\nEnter availability for {caregiver.name} for {calendar.month_name[month]} Week {week_days[0]}\")\n",
    "\n",
    "    # Loop over each day of the week\n",
    "    for day in week_days:\n",
    "        date_str = f\"{year}-{month:02d}-{day:02d}\"\n",
    "        \n",
    "        # Ask for AM shift availability\n",
    "        print(f\"\\nDay {day}: {date_str} - AM Shift (7:00 AM - 1:00 PM)\")\n",
    "        am_available = input(\"Is the caregiver 'Preferred', 'Available', or 'Unavailable' for this shift? \").strip().lower()\n",
    "        if am_available in ['preferred', 'available', 'unavailable']:\n",
    "            caregiver.set_availability(date_str, 'AM', am_available)\n",
    "        \n",
    "        # Ask for PM shift availability\n",
    "        print(f\"Day {day}: {date_str} - PM Shift (1:00 PM - 7:00 PM)\")\n",
    "        pm_available = input(\"Is the caregiver 'Preferred', 'Available', or 'Unavailable' for this shift? \").strip().lower()\n",
    "        if pm_available in ['preferred', 'available', 'unavailable']:\n",
    "            caregiver.set_availability(date_str, 'PM', pm_available)\n",
    "\n",
    "# Function to generate the caregiver schedule for a single week in HTML format\n",
    "def generate_weekly_schedule(year, month, caregivers, week_days):\n",
    "    \"\"\"Generates a weekly caregiver schedule in HTML format.\"\"\"\n",
    "    html_content = f\"<html><head><style>\"\n",
    "    html_content += \"table {border-collapse: collapse; width: 100%;}\"\n",
    "    html_content += \"td {border: 1px solid #ddd; padding: 10px; text-align: center; height: 80px;}\"\n",
    "    html_content += \"th {border: 1px solid #ddd; padding: 10px; text-align: center; background-color: #f4f4f4;}\"\n",
    "    html_content += \".preferred {background-color: lightgreen; font-weight: bold;}\"\n",
    "    html_content += \".available {background-color: lightyellow;}\"\n",
    "    html_content += \".unavailable {background-color: lightcoral;}\"\n",
    "    html_content += \"</style></head><body>\"\n",
    "    html_content += f\"<h1>Caregiver Schedule for {calendar.month_name[month]} Week {week_days[0]}</h1>\"\n",
    "    html_content += \"<table><thead><tr>\"\n",
    "\n",
    "    # Table headers: Sun, Mon, Tue, ...\n",
    "    for day_name in calendar.day_name:\n",
    "        html_content += f\"<th>{day_name[:3]}</th>\"\n",
    "    html_content += \"</tr></thead><tbody>\"\n",
    "\n",
    "    # Create a single row for the week with each day's shifts\n",
    "    html_content += \"<tr>\"\n",
    "    for day in week_days:\n",
    "        date_str = f\"{year}-{month:02d}-{day:02d}\"\n",
    "        caregivers_for_day = []\n",
    "\n",
    "        # Check which caregivers are available for AM and PM shifts\n",
    "        for caregiver in caregivers:\n",
    "            for shift in ['AM', 'PM']:\n",
    "                if date_str in caregiver.availability[shift]:\n",
    "                    availability = caregiver.availability[shift][date_str]\n",
    "                    caregivers_for_day.append(f\"<div class='{availability}'>{caregiver.name} ({availability.capitalize()})</div>\")\n",
    "\n",
    "        # Add the caregivers for this day to the table cell\n",
    "        if caregivers_for_day:\n",
    "            html_content += f\"<td>{day}<br>{'<br>'.join(caregivers_for_day)}</td>\"\n",
    "        else:\n",
    "            html_content += f\"<td>{day}</td>\"\n",
    "    html_content += \"</tr>\"\n",
    "\n",
    "    html_content += \"</tbody></table></body></html>\"\n",
    "\n",
    "    return html_content\n",
    "\n",
    "# Function to generate the pay report for caregivers\n",
    "def generate_pay_report(caregivers):\n",
    "    \"\"\"Generates a pay report for each caregiver based on weekly hours worked.\"\"\"\n",
    "    total_weekly_pay = 0\n",
    "    total_monthly_pay = 0\n",
    "    pay_report = \"\"\n",
    "\n",
    "    for caregiver in caregivers:\n",
    "        weekly_pay = caregiver.calculate_weekly_pay()\n",
    "        total_weekly_pay += weekly_pay\n",
    "        total_monthly_pay += weekly_pay * 4  # Assuming 4 weeks in a month\n",
    "        pay_report += f\"{caregiver.name} - Weekly Pay: ${weekly_pay:.2f}\\n\"\n",
    "        caregiver.reset_hours()  # Reset hours for the next week\n",
    "\n",
    "    pay_report += f\"\\nTotal Weekly Pay for All Caregivers: ${total_weekly_pay:.2f}\\n\"\n",
    "    pay_report += f\"Total Monthly Pay for All Caregivers: ${total_monthly_pay:.2f}\\n\"\n",
    "\n",
    "    return pay_report\n",
    "\n",
    "# Function to get the days for a specific week of a month\n",
    "def get_week_days(year, month, week_num):\n",
    "    \"\"\"Returns the days for the selected week (1 to 4) of the month.\"\"\"\n",
    "    cal = calendar.Calendar(firstweekday=6)  # Start week on Sunday (6)\n",
    "    month_days = cal.monthdayscalendar(year, month)\n",
    "    \n",
    "    # Flatten the month_days list and get only the days of the selected week\n",
    "    flat_days = [day for week in month_days for day in week if day != 0]\n",
    "    \n",
    "    # Calculate the start and end indices for the selected week\n",
    "    start_index = (week_num - 1) * 7\n",
    "    end_index = start_index + 7\n",
    "    \n",
    "    return flat_days[start_index:end_index]\n",
    "\n",
    "# Main function to execute the program\n",
    "def main():\n",
    "    caregivers = [\n",
    "        Caregiver(\"Alice\", \"123-456-7890\", \"alice@example.com\"),\n",
    "        Caregiver(\"Bob\", \"987-654-3210\", \"bob@example.com\"),\n",
    "        Caregiver(\"Charlie\", \"555-555-5555\", \"charlie@example.com\"),\n",
    "        Caregiver(\"David\", \"444-444-4444\", \"david@example.com\"),\n",
    "        Caregiver(\"Eva\", \"333-333-3333\", \"eva@example.com\"),\n",
    "        Caregiver(\"Frank\", \"222-222-2222\", \"frank@example.com\"),\n",
    "        Caregiver(\"Grace\", \"111-111-1111\", \"grace@example.com\"),\n",
    "        Caregiver(\"Hannah\", \"000-000-0000\", \"hannah@example.com\")\n",
    "    ]\n",
    "\n",
    "    # Get the current year, month, and week number\n",
    "    year = int(input(\"Enter the year for the schedule: \"))\n",
    "    month = int(input(\"Enter the month (1-12): \"))\n",
    "    week_num = int(input(\"Enter the week number (1-4): \"))  # Select a week (1-4)\n",
    "    \n",
    "    # Get"
   ]
  },
  {
   "cell_type": "markdown",
   "id": "ec8ddd19-87cd-475d-a07f-7dc8983dc636",
   "metadata": {},
   "source": [
    "### Notebook Instructions\n",
    "> Before turning in your notebook:\n",
    "> 1. Make sure you have renamed the notebook file as instructed\n",
    "> 2. Make sure you have included your signature block and that it is correct according to the instructions\n",
    "> 3. comment your code as necessary\n",
    "> 4. run all code cells and double check that they run correctly. If you can't get your code to run correctly and you want partial credit, add a note for the grader in a new markdown cell directly above your code solution.<br><br>\n",
    "Turn in your notebook by uploading it to ELMS<br>\n",
    "IF the exercises involve saved data files, put your notebook and the data file(s) in a zip folder and upload the zip folder to ELMS"
   ]
  },
  {
   "cell_type": "code",
   "execution_count": 23,
   "id": "c2f96be2-9bc0-46ea-98fb-51d8c07c7de8",
   "metadata": {},
   "outputs": [
    {
     "name": "stdin",
     "output_type": "stream",
     "text": [
      "Enter the year:  2024\n",
      "Enter the month (1-12):  1\n"
     ]
    },
    {
     "name": "stdout",
     "output_type": "stream",
     "text": [
      "HTML work schedule for January 2024 generated successfully!\n"
     ]
    }
   ],
   "source": [
    "import calendar\n",
    "import random\n",
    "\n",
    "def generate_schedule(people, year, month):\n",
    "    # Define shifts\n",
    "    shifts = [\"7:00AM - 1:00PM\", \"1:00PM - 7:00PM\"]\n",
    "\n",
    "    # Get the number of days in the specified month\n",
    "    num_days = calendar.monthrange(year, month)[1]\n",
    "    \n",
    "    # Randomly assign people to shifts for each day of the month\n",
    "    schedule = {}\n",
    "    for day in range(1, num_days + 1):\n",
    "        schedule[day] = {\n",
    "            shifts[0]: random.choice(people),  # Assign someone to the morning shift\n",
    "            shifts[1]: random.choice(people)   # Assign someone to the afternoon shift\n",
    "        }\n",
    "\n",
    "    return schedule\n",
    "\n",
    "def display_schedule_as_html(schedule, year, month):\n",
    "    # Create the HTML structure\n",
    "    html_schedule = f\"\"\"\n",
    "    <html>\n",
    "    <head>\n",
    "        <title>Work Schedule for {calendar.month_name[month]} {year}</title>\n",
    "        <style>\n",
    "            table {{\n",
    "                border-collapse: collapse;\n",
    "                width: 100%;\n",
    "                margin: 20px 0;\n",
    "            }}\n",
    "            th, td {{\n",
    "                border: 1px solid black;\n",
    "                padding: 10px;\n",
    "                text-align: center;\n",
    "            }}\n",
    "            th {{\n",
    "                background-color: #f2f2f2;\n",
    "            }}\n",
    "            td {{\n",
    "                height: 100px;\n",
    "                vertical-align: top;\n",
    "            }}\n",
    "        </style>\n",
    "    </head>\n",
    "    <body>\n",
    "        <h1>Work Schedule for {calendar.month_name[month]} {year}</h1>\n",
    "        <table>\n",
    "            <tr>\n",
    "                <th>Mon</th>\n",
    "                <th>Tue</th>\n",
    "                <th>Wed</th>\n",
    "                <th>Thu</th>\n",
    "                <th>Fri</th>\n",
    "                <th>Sat</th>\n",
    "                <th>Sun</th>\n",
    "            </tr>\n",
    "    \"\"\"\n",
    "    \n",
    "    # Get the first weekday of the month and the total days\n",
    "    first_weekday, num_days = calendar.monthrange(year, month)\n",
    "\n",
    "    # Fill in the days of the month\n",
    "    current_day = 1\n",
    "    for week in range((num_days + first_weekday) // 7 + 1):\n",
    "        html_schedule += \"<tr>\"\n",
    "        for day in range(7):\n",
    "            if (week == 0 and day < first_weekday) or current_day > num_days:\n",
    "                html_schedule += \"<td></td>\"  # Empty cell for days outside the month\n",
    "            else:\n",
    "                # Add the day and the assigned shifts\n",
    "                shifts_for_day = schedule.get(current_day, {})\n",
    "                morning_shift = shifts_for_day.get(\"7:00AM - 1:00PM\", \"N/A\")\n",
    "                afternoon_shift = shifts_for_day.get(\"1:00PM - 7:00PM\", \"N/A\")\n",
    "\n",
    "                html_schedule += f\"<td>{current_day}<br><b>AM:</b> {morning_shift}<br><b>PM:</b> {afternoon_shift}</td>\"\n",
    "                current_day += 1\n",
    "        html_schedule += \"</tr>\"\n",
    "\n",
    "    # Close the table and HTML\n",
    "    html_schedule += \"\"\"\n",
    "        </table>\n",
    "    </body>\n",
    "    </html>\n",
    "    \"\"\"\n",
    "    \n",
    "    # Write the HTML content to a file\n",
    "    with open(f\"work_schedule_{year}_{month}.html\", \"w\") as file:\n",
    "        file.write(html_schedule)\n",
    "\n",
    "    print(f\"HTML work schedule for {calendar.month_name[month]} {year} generated successfully!\")\n",
    "\n",
    "# Sample list of people to assign\n",
    "people = [\"Alice\", \"Bob\", \"Charlie\", \"David\", \"Eve\", \"Frank\", \"Grace\"]\n",
    "\n",
    "# Get user input for the year and month\n",
    "year = int(input(\"Enter the year: \"))\n",
    "month = int(input(\"Enter the month (1-12): \"))\n",
    "\n",
    "# Generate the work schedule\n",
    "schedule = generate_schedule(people, year, month)\n",
    "\n",
    "# Display the schedule as an HTML calendar\n",
    "display_schedule_as_html(schedule, year, month)"
   ]
  },
  {
   "cell_type": "code",
   "execution_count": null,
   "id": "ad310c24-595a-4214-aee9-c84296986450",
   "metadata": {},
   "outputs": [],
   "source": [
    " "
   ]
  },
  {
   "cell_type": "code",
   "execution_count": 91,
   "id": "c85ce26e-4048-4a3d-95ad-2dd76ca9c401",
   "metadata": {},
   "outputs": [
    {
     "name": "stdout",
     "output_type": "stream",
     "text": [
      "Set your availability for each shift\n",
      "\n",
      "Enter availavility for Monday:\n"
     ]
    },
    {
     "name": "stdin",
     "output_type": "stream",
     "text": [
      "Morning shift is from 7:00 AM - 1:00 PM:  for Monday 'Preferred', 'Available', 'Unavailable':  Preferred\n",
      "Afternoon shift is from 1:00 PM - 7:00 AM:  for Monday 'Preferred', 'Available', 'Unavailable':  Preferred\n"
     ]
    },
    {
     "name": "stdout",
     "output_type": "stream",
     "text": [
      "\n",
      "Enter availavility for Tuesday:\n"
     ]
    },
    {
     "name": "stdin",
     "output_type": "stream",
     "text": [
      "Morning shift is from 7:00 AM - 1:00 PM:  for Tuesday 'Preferred', 'Available', 'Unavailable':  Preferred\n",
      "Afternoon shift is from 1:00 PM - 7:00 AM:  for Tuesday 'Preferred', 'Available', 'Unavailable':  Preferred\n"
     ]
    },
    {
     "name": "stdout",
     "output_type": "stream",
     "text": [
      "\n",
      "Enter availavility for Wednesday:\n"
     ]
    },
    {
     "name": "stdin",
     "output_type": "stream",
     "text": [
      "Morning shift is from 7:00 AM - 1:00 PM:  for Wednesday 'Preferred', 'Available', 'Unavailable':  Preferred\n",
      "Afternoon shift is from 1:00 PM - 7:00 AM:  for Wednesday 'Preferred', 'Available', 'Unavailable':  Preferred\n"
     ]
    },
    {
     "name": "stdout",
     "output_type": "stream",
     "text": [
      "\n",
      "Enter availavility for Thursday:\n"
     ]
    },
    {
     "name": "stdin",
     "output_type": "stream",
     "text": [
      "Morning shift is from 7:00 AM - 1:00 PM:  for Thursday 'Preferred', 'Available', 'Unavailable':  Preferred\n",
      "Afternoon shift is from 1:00 PM - 7:00 AM:  for Thursday 'Preferred', 'Available', 'Unavailable':  Preferred\n"
     ]
    },
    {
     "name": "stdout",
     "output_type": "stream",
     "text": [
      "\n",
      "Enter availavility for Friday:\n"
     ]
    },
    {
     "name": "stdin",
     "output_type": "stream",
     "text": [
      "Morning shift is from 7:00 AM - 1:00 PM:  for Friday 'Preferred', 'Available', 'Unavailable':  Preferred\n",
      "Afternoon shift is from 1:00 PM - 7:00 AM:  for Friday 'Preferred', 'Available', 'Unavailable':  Preferred\n"
     ]
    },
    {
     "name": "stdout",
     "output_type": "stream",
     "text": [
      "\n",
      "Enter availavility for Saturday:\n"
     ]
    },
    {
     "name": "stdin",
     "output_type": "stream",
     "text": [
      "Morning shift is from 7:00 AM - 1:00 PM:  for Saturday 'Preferred', 'Available', 'Unavailable':  Preferred\n",
      "Afternoon shift is from 1:00 PM - 7:00 AM:  for Saturday 'Preferred', 'Available', 'Unavailable':  Preferred\n"
     ]
    },
    {
     "name": "stdout",
     "output_type": "stream",
     "text": [
      "\n",
      "Enter availavility for Sunday:\n"
     ]
    },
    {
     "name": "stdin",
     "output_type": "stream",
     "text": [
      "Morning shift is from 7:00 AM - 1:00 PM:  for Sunday 'Preferred', 'Available', 'Unavailable':  Preferred\n",
      "Afternoon shift is from 1:00 PM - 7:00 AM:  for Sunday 'Preferred', 'Available', 'Unavailable':  Preferred\n"
     ]
    },
    {
     "name": "stdout",
     "output_type": "stream",
     "text": [
      "\n",
      " Updated Schedule:\n",
      "Monday: {'7:00 AM - 1:00 PM': 'Preferred', '1:00 PM - 7:00 AM': 'Preferred'}\n",
      "Tuesday: {'7:00 AM - 1:00 PM': 'Preferred', '1:00 PM - 7:00 AM': 'Preferred'}\n",
      "Wednesday: {'7:00 AM - 1:00 PM': 'Preferred', '1:00 PM - 7:00 AM': 'Preferred'}\n",
      "Thursday: {'7:00 AM - 1:00 PM': 'Preferred', '1:00 PM - 7:00 AM': 'Preferred'}\n",
      "Friday: {'7:00 AM - 1:00 PM': 'Preferred', '1:00 PM - 7:00 AM': 'Preferred'}\n",
      "Saturday: {'7:00 AM - 1:00 PM': 'Preferred', '1:00 PM - 7:00 AM': 'Preferred'}\n",
      "Sunday: {'7:00 AM - 1:00 PM': 'Preferred', '1:00 PM - 7:00 AM': 'Preferred'}\n",
      "\n",
      "HTML schedule has been generated as 'availability_schedule.html'.\n"
     ]
    }
   ],
   "source": [
    "import calendar\n",
    "\n",
    "AVAILABILITIES = [\"Preferred\", \"Available\", \"Unavailable\"]\n",
    "\n",
    "\n",
    "\n",
    "class Availability:\n",
    "    def __init__(self):\n",
    "        self.schedule = {}\n",
    "\n",
    "    def getAvailability(self, shift, day):\n",
    "        while True:\n",
    "            availability_input = input(f\"{shift} for {day} 'Preferred', 'Available', 'Unavailable': \")\n",
    "            if availability_input in AVAILABILITIES:\n",
    "                return availability_input\n",
    "\n",
    "            else:\n",
    "                print(\"Invaid input. Enter 'Preferred', 'Available', 'Unavailable': \")\n",
    "\n",
    "\n",
    "class DayCaregiver(Caregiver):\n",
    "    def __init__(self, name): \n",
    "        super().__init__(name)\n",
    "        self.specialization = \"Day caregiver\"\n",
    "\n",
    "\n",
    "    def update_availability(self, availability_handler):\n",
    "        print(f\"\\nUpdating availability for {self.specialization}: {self.name}\")\n",
    "        super().update_availability(availability_handler)\n",
    "        \n",
    "\n",
    "class NightCaregiver(Caregiver):\n",
    "    def __init__(self, name): \n",
    "        super().__init__(name)\n",
    "        self.specialization = \"Night caregiver\"\n",
    "\n",
    "\n",
    "    def update_availability(self, availability_handler):\n",
    "        print(f\"\\nUpdating availability for {self.specialization}: {self.name}\")\n",
    "        super().update_availability(availability_handler)\n",
    "\n",
    "\n",
    "class Schedule:\n",
    "    def __init__(self):\n",
    "        self.schedule = {day: {\"7:00 AM - 1:00 PM\": \"available\", \"1:00 PM - 7:00 AM\": \"available\"} for day in range(1, 8)}\n",
    "        self.availability_handler = Availability()\n",
    "\n",
    "    def update(self):\n",
    "        dayNames = [\"Monday\", \"Tuesday\", \"Wednesday\", \"Thursday\", \"Friday\", \"Saturday\", \"Sunday\"]\n",
    "        for i, day in enumerate(dayNames):\n",
    "            print(f\"\\nEnter availavility for {day}:\")\n",
    "\n",
    "\n",
    "            morningShift = self.availability_handler.getAvailability(f\"Morning shift is from 7:00 AM - 1:00 PM: \", day)\n",
    "            self.schedule[i + 1][\"7:00 AM - 1:00 PM\"] = morningShift\n",
    "\n",
    "\n",
    "            afternoonShift = self.availability_handler.getAvailability(f\"Afternoon shift is from 1:00 PM - 7:00 AM: \", day)\n",
    "            self.schedule[i + 1][\"1:00 PM - 7:00 AM\"] = afternoonShift\n",
    "\n",
    "\n",
    "        self.print_schedule()\n",
    "\n",
    "    def print_schedule(self):\n",
    "        print(\"\\n Updated Schedule:\")\n",
    "        for day in self.schedule:\n",
    "            print(f\"{calendar.day_name[day - 1]}: {self.schedule[day]}\")\n",
    "\n",
    "\n",
    "class HTMLGENERATION:\n",
    "    def __init__(self, schedule):\n",
    "        self.schedule = schedule\n",
    "        \n",
    "    def html(self):\n",
    "        html_schedule = \"\"\"\"\n",
    "            <html>\n",
    "            <head>\n",
    "                <title>Shift Availability Schedule</title>\n",
    "                <style>\n",
    "                    table {\n",
    "                        border-collapse: collapse;\n",
    "                        width: 100%;\n",
    "                        margin: 20px 0;\n",
    "                    }\n",
    "                    th, td {\n",
    "                        border: 1px solid black;\n",
    "                        padding: 10px;\n",
    "                        text-align: center;\n",
    "                    }\n",
    "                    th {\n",
    "                        background-color: #f2f2f2;\n",
    "                    }\n",
    "                    td {\n",
    "                        height: 100px;\n",
    "                        vertical-align: top;\n",
    "                    }\n",
    "                </style>\n",
    "            </head>\n",
    "            <body>\n",
    "                <h1>Shift Availability Schedule</h1>\n",
    "                <table>\n",
    "                    <tr>\n",
    "                        <th>Mon</th>\n",
    "                        <th>Tue</th>\n",
    "                        <th>Wed</th>\n",
    "                        <th>Thu</th>\n",
    "                        <th>Fri</th>\n",
    "                        <th>Sat</th>\n",
    "                        <th>Sun</th>\n",
    "                    </tr>\n",
    "                    <tr>\n",
    "\n",
    "            \"\"\"\n",
    "        for day in range(1, 8):\n",
    "            morningShift = self.schedule[day][\"7:00 AM - 1:00 PM\"]\n",
    "            afternoonShift = self.schedule[day][\"1:00 PM - 7:00 AM\"]\n",
    "            day_availability = f'<div><b>Morning:</b> {morningShift}</div>'\n",
    "            day_availability += f'<div><b>Afternoon:</b> {afternoonShift}</div>'\n",
    "            html_schedule += f\"<td>{day_availability}</td>\"\n",
    "            \n",
    "        html_schedule += \"\"\"\n",
    "                    </tr>\n",
    "                </table>\n",
    "            </body>\n",
    "            </html>\n",
    "        \"\"\"\n",
    "\n",
    "        return html_schedule\n",
    "\n",
    "    def save_html(self, filename = \"availability_schedule.html\"):\n",
    "        html_content = self.html()\n",
    "        with open(\"availability_schedule.html\", \"w\") as file:\n",
    "            file.write(html_content)\n",
    "        print(\"\\nHTML schedule has been generated as 'availability_schedule.html'.\")\n",
    "\n",
    "\n",
    "\n",
    "class SchedulerApp:\n",
    "    def __init__(self):\n",
    "        self.schedule = Schedule()\n",
    "\n",
    "\n",
    "    def run(self):\n",
    "        print(\"Set your availability for each shift\")\n",
    "        self.schedule.update()\n",
    "\n",
    "\n",
    "        html_generator = HTMLGENERATION(self.schedule.schedule)\n",
    "        html_generator.save_html()\n",
    "\n",
    "\n",
    "if __name__ == \"__main__\":\n",
    "    app = SchedulerApp()\n",
    "    app.run()        "
   ]
  },
  {
   "cell_type": "code",
   "execution_count": null,
   "id": "c169f6a3-705b-4c0e-8ee4-67aae95d90ce",
   "metadata": {},
   "outputs": [],
   "source": []
  }
 ],
 "metadata": {
  "kernelspec": {
   "display_name": "Python 3 (ipykernel)",
   "language": "python",
   "name": "python3"
  },
  "language_info": {
   "codemirror_mode": {
    "name": "ipython",
    "version": 3
   },
   "file_extension": ".py",
   "mimetype": "text/x-python",
   "name": "python",
   "nbconvert_exporter": "python",
   "pygments_lexer": "ipython3",
   "version": "3.12.4"
  }
 },
 "nbformat": 4,
 "nbformat_minor": 5
}
