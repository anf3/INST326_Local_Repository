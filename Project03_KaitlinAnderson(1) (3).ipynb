{
 "cells": [
  {
   "cell_type": "markdown",
   "id": "cddf5de3-a9f3-4471-bbaf-aca41a70ce89",
   "metadata": {},
   "source": [
    "### INST326 OOP Project 03"
   ]
  },
  {
   "cell_type": "markdown",
   "id": "2bb7f115-9eba-4f29-918e-b016e6a7edc8",
   "metadata": {},
   "source": [
    "Rename this notebook, replacing \"_Assignment\" with \"_YourName\"<br>\n",
    "Insert Signature Block Here"
   ]
  },
  {
   "cell_type": "markdown",
   "id": "8ee05bdb-db2d-41c2-9f23-3af75d058612",
   "metadata": {},
   "source": [
    "### The Project\n",
    "Everyone will do the same project this time. This is a group project, so you must work in your assigned groups. Include the link to your group's GitHub repository (one link per group). Use comments in your code to document your solution. If you need to write comments to the grader, add a markdown cell immediately above your code solution and add your comments there. Be sure to read and follow all the requirements and the Notebook Instructions at the bottom of this notebook. Your grade may depend on it!"
   ]
  },
  {
   "cell_type": "markdown",
   "id": "a1c98e85-2c64-4a03-8309-d91035cca6d2",
   "metadata": {},
   "source": [
    "#### 1. A Scheduling Program\r",
    ">  My wife is responsible for scheduling caregivers for her 93 year-old mother. Currently she writes out the schedule on a monthly calendar and photocopies it for everyone. I want all of you to help me write a program to help her with scheduling. While this is a specific application, this program will be broadly useful and adaptable to any scheduling needs for small businesses, clubs, and more."
   ]
  },
  {
   "cell_type": "markdown",
   "id": "28b28d8a-dbb3-4f15-bbe0-e14504b84876",
   "metadata": {},
   "source": [
    "#### Requirements\n",
    ">  Care is required 12 hours per day, 7 days a week. There are two shifts each day: 7:00 AM - 1:00 PM, and 1:00 PM to 7:00 PM. There are a total of 8 caregivers. Some are family members and some are paid. Each caregiver has their own availability for shifts that is generally the same from month to month, but there are exceptions for work, vacations, and other responsibilities. Your program should do the following:\n",
    "> 1. Manage caregivers and their schedules. Attributes include: name, phone, email, pay rate, and hours.\n",
    "> 2. Each caregiver should have their own availability schedule where they can indicate their availability for each shift. Availability categories are 'preferred', 'available' (default), and 'unavailable'.\n",
    "> 3. Create a care schedule that covers AM and PM shifts and displays caregiver names on a calendar (see example). The schedule should accomodate caregivers' individual schedules and availability preferences. The python calendar module provides options for creating HTML calendars. Sample code for the HTML calendar is in the project folder.\n",
    "> 4. Paid caregivers are paid weekly at $20/hr. Your program should calculate weekly pay based on assigned hours. Provide a separate pay report that lists weekly (gross: hours x rate) amounts to each caregiver, along with weekly and monthly totals. The report can be a text document, or presented in GUI or HTML format. "
   ]
  },
  {
   "cell_type": "markdown",
   "id": "6708f6cf-aac7-430e-947d-6f9c8dd161f6",
   "metadata": {
    "jp-MarkdownHeadingCollapsed": true
   },
   "source": [
    "#### Group Requirements\n",
    ">  1. Your submitted project should follow OOP principles like abstraction, encapsulation, inheritance, and polymorphism as appropriate. Your program should use classes. \n",
    ">  2. Select a group leader who will host the group's project repository on their GitHub.\n",
    ">  3. Create the group repository and add a main program document. See example.\n",
    ">  4. Create branches off the main program for each group member, and assign part of the program to each member.\n",
    ">  5. Each member should work on their branch.\n",
    ">  6. When each member is finished, merge the branches back into the main program. You may use 'merge' or 'pull requests', your choice.\n",
    ">  7. iterate and debug as necessary."
   ]
  },
  {
   "cell_type": "markdown",
   "id": "71b8f18e-607a-4c94-81a3-ebbc488ba8c6",
   "metadata": {},
   "source": [
    "#### Working with HTML\n",
    "> Since this is a course on python, not HTML, you are not expected to know HTML. Therefore, you may copy applicable portions of the sample code or use AI to write the HTML portions of your application. Ypu should write the main python code yourself.\n"
   ]
  },
  {
   "cell_type": "markdown",
   "id": "fc336368-4292-42af-aa60-06b27ff6b303",
   "metadata": {
    "jp-MarkdownHeadingCollapsed": true
   },
   "source": [
    "#### What you need to turn in\n",
    ">  This is a group project. There will be one submission per group. Your submission will be graded as a group.\n",
    ">  1. Include your group number and the names of all group members in the signature block at the top of this notebook.\n",
    ">  2. In the cell below, paste the link to your project repository. One link per group. The grader will review the activity and history provided by GitHub. To add a hyperlink to a Jupyter markdown cell, follow the instructions in the cell below.\n",
    ">  3. Below the GitHub Repository Link cell is a code cell. Copy and paste your final program code into this cell."
   ]
  },
  {
   "cell_type": "markdown",
   "id": "3ece03e6-a41f-484d-8417-d8c4e156b2c0",
   "metadata": {},
   "source": [
    "#### GitHub Repository Link\n",
    "> Example: [INST326_Fall2024/Projects/Project03](https://github.com/sdempwolf/INST326_Fall_2024/tree/main/Projects/Project03)\n",
    ">\n",
    "> Edit the link code below with your information, then run this cell. Test the link! It should take you to your GitHub project repository.\n",
    "> [external link text](http://url_here)"
   ]
  },
  {
   "cell_type": "code",
   "execution_count": 21,
   "id": "cb35b908-6683-4144-816c-051715925504",
   "metadata": {},
   "outputs": [],
   "source": []
  },
  {
   "cell_type": "markdown",
   "id": "ec8ddd19-87cd-475d-a07f-7dc8983dc636",
   "metadata": {},
   "source": [
    "### Notebook Instructions\n",
    "> Before turning in your notebook:\n",
    "> 1. Make sure you have renamed the notebook file as instructed\n",
    "> 2. Make sure you have included your signature block and that it is correct according to the instructions\n",
    "> 3. comment your code as necessary\n",
    "> 4. run all code cells and double check that they run correctly. If you can't get your code to run correctly and you want partial credit, add a note for the grader in a new markdown cell directly above your code solution.<br><br>\n",
    "Turn in your notebook by uploading it to ELMS<br>\n",
    "IF the exercises involve saved data files, put your notebook and the data file(s) in a zip folder and upload the zip folder to ELMS"
   ]
  },
  {
   "cell_type": "code",
   "execution_count": 134,
   "id": "c85ce26e-4048-4a3d-95ad-2dd76ca9c401",
   "metadata": {},
   "outputs": [
    {
     "name": "stdout",
     "output_type": "stream",
     "text": [
      "Set your availability for each shift\n"
     ]
    },
    {
     "name": "stdin",
     "output_type": "stream",
     "text": [
      "Enter the year:  2024\n",
      "Enter the month (1-12):  11\n"
     ]
    },
    {
     "name": "stdout",
     "output_type": "stream",
     "text": [
      "\n",
      " Enter availavility for November 2024 - Day 1:\n"
     ]
    },
    {
     "name": "stdin",
     "output_type": "stream",
     "text": [
      "7:00 AM - 1:00PM for day:  for 1 'Preferred', 'Available', 'Unavailable':  Preferred\n",
      "1:00 PM - 7:00AM for day:  for 1 'Preferred', 'Available', 'Unavailable':  Preferred\n"
     ]
    },
    {
     "name": "stdout",
     "output_type": "stream",
     "text": [
      "\n",
      " Enter availavility for November 2024 - Day 2:\n"
     ]
    },
    {
     "name": "stdin",
     "output_type": "stream",
     "text": [
      "7:00 AM - 1:00PM for day:  for 2 'Preferred', 'Available', 'Unavailable':  Preferred\n",
      "1:00 PM - 7:00AM for day:  for 2 'Preferred', 'Available', 'Unavailable':  Preferred\n"
     ]
    },
    {
     "name": "stdout",
     "output_type": "stream",
     "text": [
      "\n",
      " Enter availavility for November 2024 - Day 3:\n"
     ]
    },
    {
     "name": "stdin",
     "output_type": "stream",
     "text": [
      "7:00 AM - 1:00PM for day:  for 3 'Preferred', 'Available', 'Unavailable':  Preferred\n",
      "1:00 PM - 7:00AM for day:  for 3 'Preferred', 'Available', 'Unavailable':  Preferred\n"
     ]
    },
    {
     "name": "stdout",
     "output_type": "stream",
     "text": [
      "\n",
      " Enter availavility for November 2024 - Day 4:\n"
     ]
    },
    {
     "name": "stdin",
     "output_type": "stream",
     "text": [
      "7:00 AM - 1:00PM for day:  for 4 'Preferred', 'Available', 'Unavailable':  Preferred\n",
      "1:00 PM - 7:00AM for day:  for 4 'Preferred', 'Available', 'Unavailable':  Preferred\n"
     ]
    },
    {
     "name": "stdout",
     "output_type": "stream",
     "text": [
      "\n",
      " Enter availavility for November 2024 - Day 5:\n"
     ]
    },
    {
     "name": "stdin",
     "output_type": "stream",
     "text": [
      "7:00 AM - 1:00PM for day:  for 5 'Preferred', 'Available', 'Unavailable':  \n"
     ]
    },
    {
     "name": "stdout",
     "output_type": "stream",
     "text": [
      "Invaid input. Enter 'Preferred', 'Available', 'Unavailable': \n"
     ]
    },
    {
     "name": "stdin",
     "output_type": "stream",
     "text": [
      "7:00 AM - 1:00PM for day:  for 5 'Preferred', 'Available', 'Unavailable':  Preferred\n",
      "1:00 PM - 7:00AM for day:  for 5 'Preferred', 'Available', 'Unavailable':  Preferred\n"
     ]
    },
    {
     "name": "stdout",
     "output_type": "stream",
     "text": [
      "\n",
      " Enter availavility for November 2024 - Day 6:\n"
     ]
    },
    {
     "name": "stdin",
     "output_type": "stream",
     "text": [
      "7:00 AM - 1:00PM for day:  for 6 'Preferred', 'Available', 'Unavailable':  Preferred\n",
      "1:00 PM - 7:00AM for day:  for 6 'Preferred', 'Available', 'Unavailable':  v\n"
     ]
    },
    {
     "name": "stdout",
     "output_type": "stream",
     "text": [
      "Invaid input. Enter 'Preferred', 'Available', 'Unavailable': \n"
     ]
    },
    {
     "name": "stdin",
     "output_type": "stream",
     "text": [
      "1:00 PM - 7:00AM for day:  for 6 'Preferred', 'Available', 'Unavailable':  Preferred\n"
     ]
    },
    {
     "name": "stdout",
     "output_type": "stream",
     "text": [
      "\n",
      " Enter availavility for November 2024 - Day 7:\n"
     ]
    },
    {
     "name": "stdin",
     "output_type": "stream",
     "text": [
      "7:00 AM - 1:00PM for day:  for 7 'Preferred', 'Available', 'Unavailable':  Preferred\n",
      "1:00 PM - 7:00AM for day:  for 7 'Preferred', 'Available', 'Unavailable':  v\n"
     ]
    },
    {
     "name": "stdout",
     "output_type": "stream",
     "text": [
      "Invaid input. Enter 'Preferred', 'Available', 'Unavailable': \n"
     ]
    },
    {
     "name": "stdin",
     "output_type": "stream",
     "text": [
      "1:00 PM - 7:00AM for day:  for 7 'Preferred', 'Available', 'Unavailable':  Preferred\n"
     ]
    },
    {
     "name": "stdout",
     "output_type": "stream",
     "text": [
      "\n",
      " Enter availavility for November 2024 - Day 8:\n"
     ]
    },
    {
     "name": "stdin",
     "output_type": "stream",
     "text": [
      "7:00 AM - 1:00PM for day:  for 8 'Preferred', 'Available', 'Unavailable':  Preferred\n",
      "1:00 PM - 7:00AM for day:  for 8 'Preferred', 'Available', 'Unavailable':  Preferred\n"
     ]
    },
    {
     "name": "stdout",
     "output_type": "stream",
     "text": [
      "\n",
      " Enter availavility for November 2024 - Day 9:\n"
     ]
    },
    {
     "name": "stdin",
     "output_type": "stream",
     "text": [
      "7:00 AM - 1:00PM for day:  for 9 'Preferred', 'Available', 'Unavailable':  Preferred\n",
      "1:00 PM - 7:00AM for day:  for 9 'Preferred', 'Available', 'Unavailable':  \n"
     ]
    },
    {
     "name": "stdout",
     "output_type": "stream",
     "text": [
      "Invaid input. Enter 'Preferred', 'Available', 'Unavailable': \n"
     ]
    },
    {
     "name": "stdin",
     "output_type": "stream",
     "text": [
      "1:00 PM - 7:00AM for day:  for 9 'Preferred', 'Available', 'Unavailable':  Preferred\n"
     ]
    },
    {
     "name": "stdout",
     "output_type": "stream",
     "text": [
      "\n",
      " Enter availavility for November 2024 - Day 10:\n"
     ]
    },
    {
     "name": "stdin",
     "output_type": "stream",
     "text": [
      "7:00 AM - 1:00PM for day:  for 10 'Preferred', 'Available', 'Unavailable':  Preferred\n",
      "1:00 PM - 7:00AM for day:  for 10 'Preferred', 'Available', 'Unavailable':  Preferred\n"
     ]
    },
    {
     "name": "stdout",
     "output_type": "stream",
     "text": [
      "\n",
      " Enter availavility for November 2024 - Day 11:\n"
     ]
    },
    {
     "name": "stdin",
     "output_type": "stream",
     "text": [
      "7:00 AM - 1:00PM for day:  for 11 'Preferred', 'Available', 'Unavailable':  Preferred\n",
      "1:00 PM - 7:00AM for day:  for 11 'Preferred', 'Available', 'Unavailable':  Preferred\n"
     ]
    },
    {
     "name": "stdout",
     "output_type": "stream",
     "text": [
      "\n",
      " Enter availavility for November 2024 - Day 12:\n"
     ]
    },
    {
     "name": "stdin",
     "output_type": "stream",
     "text": [
      "7:00 AM - 1:00PM for day:  for 12 'Preferred', 'Available', 'Unavailable':  Preferred\n",
      "1:00 PM - 7:00AM for day:  for 12 'Preferred', 'Available', 'Unavailable':  Preferred\n"
     ]
    },
    {
     "name": "stdout",
     "output_type": "stream",
     "text": [
      "\n",
      " Enter availavility for November 2024 - Day 13:\n"
     ]
    },
    {
     "name": "stdin",
     "output_type": "stream",
     "text": [
      "7:00 AM - 1:00PM for day:  for 13 'Preferred', 'Available', 'Unavailable':  Preferred\n",
      "1:00 PM - 7:00AM for day:  for 13 'Preferred', 'Available', 'Unavailable':  Preferred\n"
     ]
    },
    {
     "name": "stdout",
     "output_type": "stream",
     "text": [
      "\n",
      " Enter availavility for November 2024 - Day 14:\n"
     ]
    },
    {
     "name": "stdin",
     "output_type": "stream",
     "text": [
      "7:00 AM - 1:00PM for day:  for 14 'Preferred', 'Available', 'Unavailable':  Preferred\n",
      "1:00 PM - 7:00AM for day:  for 14 'Preferred', 'Available', 'Unavailable':  Preferred\n"
     ]
    },
    {
     "name": "stdout",
     "output_type": "stream",
     "text": [
      "\n",
      " Enter availavility for November 2024 - Day 15:\n"
     ]
    },
    {
     "name": "stdin",
     "output_type": "stream",
     "text": [
      "7:00 AM - 1:00PM for day:  for 15 'Preferred', 'Available', 'Unavailable':  Preferred\n",
      "1:00 PM - 7:00AM for day:  for 15 'Preferred', 'Available', 'Unavailable':  Preferred\n"
     ]
    },
    {
     "name": "stdout",
     "output_type": "stream",
     "text": [
      "\n",
      " Enter availavility for November 2024 - Day 16:\n"
     ]
    },
    {
     "name": "stdin",
     "output_type": "stream",
     "text": [
      "7:00 AM - 1:00PM for day:  for 16 'Preferred', 'Available', 'Unavailable':  Preferred\n",
      "1:00 PM - 7:00AM for day:  for 16 'Preferred', 'Available', 'Unavailable':  Preferred\n"
     ]
    },
    {
     "name": "stdout",
     "output_type": "stream",
     "text": [
      "\n",
      " Enter availavility for November 2024 - Day 17:\n"
     ]
    },
    {
     "name": "stdin",
     "output_type": "stream",
     "text": [
      "7:00 AM - 1:00PM for day:  for 17 'Preferred', 'Available', 'Unavailable':  Preferred\n",
      "1:00 PM - 7:00AM for day:  for 17 'Preferred', 'Available', 'Unavailable':  Preferred\n"
     ]
    },
    {
     "name": "stdout",
     "output_type": "stream",
     "text": [
      "\n",
      " Enter availavility for November 2024 - Day 18:\n"
     ]
    },
    {
     "name": "stdin",
     "output_type": "stream",
     "text": [
      "7:00 AM - 1:00PM for day:  for 18 'Preferred', 'Available', 'Unavailable':  Preferred\n",
      "1:00 PM - 7:00AM for day:  for 18 'Preferred', 'Available', 'Unavailable':  Preferred\n"
     ]
    },
    {
     "name": "stdout",
     "output_type": "stream",
     "text": [
      "\n",
      " Enter availavility for November 2024 - Day 19:\n"
     ]
    },
    {
     "name": "stdin",
     "output_type": "stream",
     "text": [
      "7:00 AM - 1:00PM for day:  for 19 'Preferred', 'Available', 'Unavailable':  Preferred\n",
      "1:00 PM - 7:00AM for day:  for 19 'Preferred', 'Available', 'Unavailable':  Preferred\n"
     ]
    },
    {
     "name": "stdout",
     "output_type": "stream",
     "text": [
      "\n",
      " Enter availavility for November 2024 - Day 20:\n"
     ]
    },
    {
     "name": "stdin",
     "output_type": "stream",
     "text": [
      "7:00 AM - 1:00PM for day:  for 20 'Preferred', 'Available', 'Unavailable':  v\n"
     ]
    },
    {
     "name": "stdout",
     "output_type": "stream",
     "text": [
      "Invaid input. Enter 'Preferred', 'Available', 'Unavailable': \n"
     ]
    },
    {
     "name": "stdin",
     "output_type": "stream",
     "text": [
      "7:00 AM - 1:00PM for day:  for 20 'Preferred', 'Available', 'Unavailable':  Preferred\n",
      "1:00 PM - 7:00AM for day:  for 20 'Preferred', 'Available', 'Unavailable':  Preferred\n"
     ]
    },
    {
     "name": "stdout",
     "output_type": "stream",
     "text": [
      "\n",
      " Enter availavility for November 2024 - Day 21:\n"
     ]
    },
    {
     "name": "stdin",
     "output_type": "stream",
     "text": [
      "7:00 AM - 1:00PM for day:  for 21 'Preferred', 'Available', 'Unavailable':  Preferred\n",
      "1:00 PM - 7:00AM for day:  for 21 'Preferred', 'Available', 'Unavailable':  Preferred\n"
     ]
    },
    {
     "name": "stdout",
     "output_type": "stream",
     "text": [
      "\n",
      " Enter availavility for November 2024 - Day 22:\n"
     ]
    },
    {
     "name": "stdin",
     "output_type": "stream",
     "text": [
      "7:00 AM - 1:00PM for day:  for 22 'Preferred', 'Available', 'Unavailable':  Preferred\n",
      "1:00 PM - 7:00AM for day:  for 22 'Preferred', 'Available', 'Unavailable':  Preferred\n"
     ]
    },
    {
     "name": "stdout",
     "output_type": "stream",
     "text": [
      "\n",
      " Enter availavility for November 2024 - Day 23:\n"
     ]
    },
    {
     "name": "stdin",
     "output_type": "stream",
     "text": [
      "7:00 AM - 1:00PM for day:  for 23 'Preferred', 'Available', 'Unavailable':  Preferred\n",
      "1:00 PM - 7:00AM for day:  for 23 'Preferred', 'Available', 'Unavailable':  Preferred\n"
     ]
    },
    {
     "name": "stdout",
     "output_type": "stream",
     "text": [
      "\n",
      " Enter availavility for November 2024 - Day 24:\n"
     ]
    },
    {
     "name": "stdin",
     "output_type": "stream",
     "text": [
      "7:00 AM - 1:00PM for day:  for 24 'Preferred', 'Available', 'Unavailable':  Preferred\n",
      "1:00 PM - 7:00AM for day:  for 24 'Preferred', 'Available', 'Unavailable':  Preferred\n"
     ]
    },
    {
     "name": "stdout",
     "output_type": "stream",
     "text": [
      "\n",
      " Enter availavility for November 2024 - Day 25:\n"
     ]
    },
    {
     "name": "stdin",
     "output_type": "stream",
     "text": [
      "7:00 AM - 1:00PM for day:  for 25 'Preferred', 'Available', 'Unavailable':  Preferred\n",
      "1:00 PM - 7:00AM for day:  for 25 'Preferred', 'Available', 'Unavailable':  Preferred\n"
     ]
    },
    {
     "name": "stdout",
     "output_type": "stream",
     "text": [
      "\n",
      " Enter availavility for November 2024 - Day 26:\n"
     ]
    },
    {
     "name": "stdin",
     "output_type": "stream",
     "text": [
      "7:00 AM - 1:00PM for day:  for 26 'Preferred', 'Available', 'Unavailable':  Preferred\n",
      "1:00 PM - 7:00AM for day:  for 26 'Preferred', 'Available', 'Unavailable':  Preferred\n"
     ]
    },
    {
     "name": "stdout",
     "output_type": "stream",
     "text": [
      "\n",
      " Enter availavility for November 2024 - Day 27:\n"
     ]
    },
    {
     "name": "stdin",
     "output_type": "stream",
     "text": [
      "7:00 AM - 1:00PM for day:  for 27 'Preferred', 'Available', 'Unavailable':  v\n"
     ]
    },
    {
     "name": "stdout",
     "output_type": "stream",
     "text": [
      "Invaid input. Enter 'Preferred', 'Available', 'Unavailable': \n"
     ]
    },
    {
     "name": "stdin",
     "output_type": "stream",
     "text": [
      "7:00 AM - 1:00PM for day:  for 27 'Preferred', 'Available', 'Unavailable':  Preferred\n",
      "1:00 PM - 7:00AM for day:  for 27 'Preferred', 'Available', 'Unavailable':  Preferred\n"
     ]
    },
    {
     "name": "stdout",
     "output_type": "stream",
     "text": [
      "\n",
      " Enter availavility for November 2024 - Day 28:\n"
     ]
    },
    {
     "name": "stdin",
     "output_type": "stream",
     "text": [
      "7:00 AM - 1:00PM for day:  for 28 'Preferred', 'Available', 'Unavailable':  Preferred\n",
      "1:00 PM - 7:00AM for day:  for 28 'Preferred', 'Available', 'Unavailable':  Preferred\n"
     ]
    },
    {
     "name": "stdout",
     "output_type": "stream",
     "text": [
      "\n",
      " Enter availavility for November 2024 - Day 29:\n"
     ]
    },
    {
     "name": "stdin",
     "output_type": "stream",
     "text": [
      "7:00 AM - 1:00PM for day:  for 29 'Preferred', 'Available', 'Unavailable':  Preferred\n",
      "1:00 PM - 7:00AM for day:  for 29 'Preferred', 'Available', 'Unavailable':  Preferred\n"
     ]
    },
    {
     "name": "stdout",
     "output_type": "stream",
     "text": [
      "\n",
      " Enter availavility for November 2024 - Day 30:\n"
     ]
    },
    {
     "name": "stdin",
     "output_type": "stream",
     "text": [
      "7:00 AM - 1:00PM for day:  for 30 'Preferred', 'Available', 'Unavailable':  Preferred\n",
      "1:00 PM - 7:00AM for day:  for 30 'Preferred', 'Available', 'Unavailable':  Preferred\n"
     ]
    },
    {
     "name": "stdout",
     "output_type": "stream",
     "text": [
      "\n",
      " Updated Schedule:\n",
      "Monday: {'7:00 AM - 1:00 PM': 'available', '1:00 PM - 7:00 AM': 'available', '7:00 AM - 1:00PM': <__main__.Caregiver object at 0x126ccb710>, '1:00 PM - 7:00AM': <__main__.Caregiver object at 0x126ccb710>}\n",
      "Tuesday: {'7:00 AM - 1:00 PM': 'available', '1:00 PM - 7:00 AM': 'available', '7:00 AM - 1:00PM': <__main__.Caregiver object at 0x126cca600>, '1:00 PM - 7:00AM': <__main__.Caregiver object at 0x126cc8500>}\n",
      "Wednesday: {'7:00 AM - 1:00 PM': 'available', '1:00 PM - 7:00 AM': 'available', '7:00 AM - 1:00PM': <__main__.Caregiver object at 0x126ccb350>, '1:00 PM - 7:00AM': <__main__.Caregiver object at 0x126ccb350>}\n",
      "Thursday: {'7:00 AM - 1:00 PM': 'available', '1:00 PM - 7:00 AM': 'available', '7:00 AM - 1:00PM': <__main__.Caregiver object at 0x126cc8500>, '1:00 PM - 7:00AM': <__main__.Caregiver object at 0x126ccb350>}\n",
      "Friday: {'7:00 AM - 1:00 PM': 'available', '1:00 PM - 7:00 AM': 'available', '7:00 AM - 1:00PM': <__main__.Caregiver object at 0x126cca600>, '1:00 PM - 7:00AM': <__main__.Caregiver object at 0x126ccb350>}\n",
      "Saturday: {'7:00 AM - 1:00 PM': 'available', '1:00 PM - 7:00 AM': 'available', '7:00 AM - 1:00PM': <__main__.Caregiver object at 0x126cc8500>, '1:00 PM - 7:00AM': <__main__.Caregiver object at 0x126cca600>}\n",
      "Sunday: {'7:00 AM - 1:00 PM': 'available', '1:00 PM - 7:00 AM': 'available', '7:00 AM - 1:00PM': <__main__.Caregiver object at 0x126cc8500>, '1:00 PM - 7:00AM': <__main__.Caregiver object at 0x126cc8500>}\n",
      "Monday: {'7:00 AM - 1:00PM': <__main__.Caregiver object at 0x126cc8500>, '1:00 PM - 7:00AM': <__main__.Caregiver object at 0x126cca600>}\n",
      "Tuesday: {'7:00 AM - 1:00PM': <__main__.Caregiver object at 0x126ccb710>, '1:00 PM - 7:00AM': <__main__.Caregiver object at 0x126cc8500>}\n",
      "Wednesday: {'7:00 AM - 1:00PM': <__main__.Caregiver object at 0x126cc8500>, '1:00 PM - 7:00AM': <__main__.Caregiver object at 0x126ccb350>}\n",
      "Thursday: {'7:00 AM - 1:00PM': <__main__.Caregiver object at 0x126cca600>, '1:00 PM - 7:00AM': <__main__.Caregiver object at 0x126cca600>}\n",
      "Friday: {'7:00 AM - 1:00PM': <__main__.Caregiver object at 0x126cc8500>, '1:00 PM - 7:00AM': <__main__.Caregiver object at 0x126ccb710>}\n",
      "Saturday: {'7:00 AM - 1:00PM': <__main__.Caregiver object at 0x126cca600>, '1:00 PM - 7:00AM': <__main__.Caregiver object at 0x126ccb350>}\n",
      "Sunday: {'7:00 AM - 1:00PM': <__main__.Caregiver object at 0x126cca600>, '1:00 PM - 7:00AM': <__main__.Caregiver object at 0x126ccb350>}\n",
      "Monday: {'7:00 AM - 1:00PM': <__main__.Caregiver object at 0x126ccb350>, '1:00 PM - 7:00AM': <__main__.Caregiver object at 0x126ccb350>}\n",
      "Tuesday: {'7:00 AM - 1:00PM': <__main__.Caregiver object at 0x126ccb710>, '1:00 PM - 7:00AM': <__main__.Caregiver object at 0x126cca600>}\n",
      "Wednesday: {'7:00 AM - 1:00PM': <__main__.Caregiver object at 0x126cca600>, '1:00 PM - 7:00AM': <__main__.Caregiver object at 0x126ccb710>}\n",
      "Thursday: {'7:00 AM - 1:00PM': <__main__.Caregiver object at 0x126ccb710>, '1:00 PM - 7:00AM': <__main__.Caregiver object at 0x126ccb350>}\n",
      "Friday: {'7:00 AM - 1:00PM': <__main__.Caregiver object at 0x126cc8500>, '1:00 PM - 7:00AM': <__main__.Caregiver object at 0x126cc8500>}\n",
      "Saturday: {'7:00 AM - 1:00PM': <__main__.Caregiver object at 0x126cc8500>, '1:00 PM - 7:00AM': <__main__.Caregiver object at 0x126cc8500>}\n",
      "Sunday: {'7:00 AM - 1:00PM': <__main__.Caregiver object at 0x126cc8500>, '1:00 PM - 7:00AM': <__main__.Caregiver object at 0x126cc8500>}\n",
      "Monday: {'7:00 AM - 1:00PM': <__main__.Caregiver object at 0x126cc8500>, '1:00 PM - 7:00AM': <__main__.Caregiver object at 0x126ccb710>}\n",
      "Tuesday: {'7:00 AM - 1:00PM': <__main__.Caregiver object at 0x126cca600>, '1:00 PM - 7:00AM': <__main__.Caregiver object at 0x126cc8500>}\n",
      "Wednesday: {'7:00 AM - 1:00PM': <__main__.Caregiver object at 0x126cc8500>, '1:00 PM - 7:00AM': <__main__.Caregiver object at 0x126cc8500>}\n",
      "Thursday: {'7:00 AM - 1:00PM': <__main__.Caregiver object at 0x126cca600>, '1:00 PM - 7:00AM': <__main__.Caregiver object at 0x126cc8500>}\n",
      "Friday: {'7:00 AM - 1:00PM': <__main__.Caregiver object at 0x126ccb710>, '1:00 PM - 7:00AM': <__main__.Caregiver object at 0x126ccb350>}\n",
      "Saturday: {'7:00 AM - 1:00PM': <__main__.Caregiver object at 0x126ccb710>, '1:00 PM - 7:00AM': <__main__.Caregiver object at 0x126ccb710>}\n",
      "Sunday: {'7:00 AM - 1:00PM': <__main__.Caregiver object at 0x126ccb710>, '1:00 PM - 7:00AM': <__main__.Caregiver object at 0x126ccb710>}\n",
      "Monday: {'7:00 AM - 1:00PM': <__main__.Caregiver object at 0x126cc8500>, '1:00 PM - 7:00AM': <__main__.Caregiver object at 0x126cca600>}\n",
      "Tuesday: {'7:00 AM - 1:00PM': <__main__.Caregiver object at 0x126cca600>, '1:00 PM - 7:00AM': <__main__.Caregiver object at 0x126ccb710>}\n"
     ]
    },
    {
     "ename": "TypeError",
     "evalue": "HTMLGENERATION.save_html() takes from 1 to 2 positional arguments but 3 were given",
     "output_type": "error",
     "traceback": [
      "\u001b[0;31m---------------------------------------------------------------------------\u001b[0m",
      "\u001b[0;31mTypeError\u001b[0m                                 Traceback (most recent call last)",
      "Cell \u001b[0;32mIn[134], line 178\u001b[0m\n\u001b[1;32m    176\u001b[0m \u001b[38;5;28;01mif\u001b[39;00m \u001b[38;5;18m__name__\u001b[39m \u001b[38;5;241m==\u001b[39m \u001b[38;5;124m\"\u001b[39m\u001b[38;5;124m__main__\u001b[39m\u001b[38;5;124m\"\u001b[39m:\n\u001b[1;32m    177\u001b[0m     app \u001b[38;5;241m=\u001b[39m SchedulerApp()\n\u001b[0;32m--> 178\u001b[0m     app\u001b[38;5;241m.\u001b[39mrun()\n",
      "Cell \u001b[0;32mIn[134], line 173\u001b[0m, in \u001b[0;36mSchedulerApp.run\u001b[0;34m(self)\u001b[0m\n\u001b[1;32m    168\u001b[0m \u001b[38;5;28mself\u001b[39m\u001b[38;5;241m.\u001b[39mschedule\u001b[38;5;241m.\u001b[39mupdate(year, month)\n\u001b[1;32m    172\u001b[0m html_generator \u001b[38;5;241m=\u001b[39m HTMLGENERATION(\u001b[38;5;28mself\u001b[39m\u001b[38;5;241m.\u001b[39mschedule\u001b[38;5;241m.\u001b[39mschedule)\n\u001b[0;32m--> 173\u001b[0m html_generator\u001b[38;5;241m.\u001b[39msave_html(year, month)\n",
      "\u001b[0;31mTypeError\u001b[0m: HTMLGENERATION.save_html() takes from 1 to 2 positional arguments but 3 were given"
     ]
    }
   ],
   "source": [
    "import calendar \n",
    "import random\n",
    "\n",
    "AVAILABILITIES = [\"Preferred\", \"Available\", \"Unavailable\"]\n",
    "\n",
    "\n",
    "\n",
    "\n",
    "class Caregiver():\n",
    "    def __init__(self, name):\n",
    "        self.name = name\n",
    "\n",
    "\n",
    "class Availability:\n",
    "    def __init__(self):\n",
    "        self.schedule = {}\n",
    "\n",
    "    def getAvailability(self, shift, day):\n",
    "        while True:\n",
    "            availability_input = input(f\"{shift} for {day} 'Preferred', 'Available', 'Unavailable': \")\n",
    "            if availability_input in AVAILABILITIES:\n",
    "                return availability_input\n",
    "\n",
    "            else:\n",
    "                print(\"Invaid input. Enter 'Preferred', 'Available', 'Unavailable': \")\n",
    "\n",
    "\n",
    "    def update_availability(self, availability_handler):\n",
    "        print(f\"\\nUpdating availability for {caregiver.name}\")\n",
    "\n",
    "\n",
    "class Schedule:\n",
    "    def __init__(self, caregiver):\n",
    "        self.schedule = {day: {\"7:00 AM - 1:00 PM\": \"available\", \"1:00 PM - 7:00 AM\": \"available\"} for day in range(1, 8)}\n",
    "        self.availability_handler = Availability()        \n",
    "        self.caregiver = caregiver\n",
    "\n",
    "    def update(self, year, month):\n",
    "        _, num_days = calendar.monthrange(year, month)\n",
    "        \n",
    "        dayNames = [\"Monday\", \"Tuesday\", \"Wednesday\", \"Thursday\", \"Friday\", \"Saturday\", \"Sunday\"]\n",
    "        for day in range(1, num_days + 1):\n",
    "            print(f\"\\n Enter availavility for {calendar.month_name[month]} {year} - Day {day}:\")\n",
    "\n",
    "\n",
    "            for shift in [\"7:00 AM - 1:00PM\", \"1:00 PM - 7:00AM\"]:\n",
    "                caregiver_name = self.availability_handler.getAvailability(f\"{shift} for day: \", day)\n",
    "                caregiver = random.choice(self.caregiver)\n",
    "                self.schedule[day] = self.schedule.get(day, {})\n",
    "                self.schedule[day][shift] = caregiver\n",
    "        \n",
    "\n",
    "        self.print_schedule()\n",
    "\n",
    "    def print_schedule(self):\n",
    "        print(\"\\n Updated Schedule:\")\n",
    "        for day in self.schedule:\n",
    "            weekday = (day - 1) % 7\n",
    "            print(f\"{calendar.day_name[weekday]}: {self.schedule[day]}\")\n",
    "\n",
    "\n",
    "class HTMLGENERATION:\n",
    "    def __init__(self, schedule):\n",
    "        self.schedule = schedule\n",
    "        \n",
    "    def html(self):\n",
    "        html_schedule = \"\"\"\"\n",
    "            <html>\n",
    "            <head>\n",
    "                <title>Shift Availability Schedule</title>\n",
    "                <style>\n",
    "                    table {\n",
    "                        border-collapse: collapse;\n",
    "                        width: 100%;\n",
    "                        margin: 20px 0;\n",
    "                    }\n",
    "                    th, td {\n",
    "                        border: 1px solid black;\n",
    "                        padding: 10px;\n",
    "                        text-align: center;\n",
    "                    }\n",
    "                    th {\n",
    "                        background-color: #f2f2f2;\n",
    "                    }\n",
    "                    td {\n",
    "                        height: 100px;\n",
    "                        vertical-align: top;\n",
    "                    }\n",
    "                </style>\n",
    "            </head>\n",
    "            <body>\n",
    "                <h1>Shift Availability Schedule</h1>\n",
    "                <table>\n",
    "                    <tr>\n",
    "                        <th>Mon</th>\n",
    "                        <th>Tue</th>\n",
    "                        <th>Wed</th>\n",
    "                        <th>Thu</th>\n",
    "                        <th>Fri</th>\n",
    "                        <th>Sat</th>\n",
    "                        <th>Sun</th>\n",
    "                    </tr>\n",
    "                    <tr>\n",
    "\n",
    "            \"\"\"\n",
    "\n",
    "\n",
    "        first_weekday, num_days = canlendar.monthrange(year, month)\n",
    "        current_day = 1 \n",
    "        \n",
    "        for week in range((num_days + first_weekday) // 7 + 1):\n",
    "            html_schedule += \"<tr>\"\n",
    "\n",
    "            for day in range(7):\n",
    "                if (week == 0 and day < first_weekday) or current_day > num_days:\n",
    "                    html_schedule += \"<td></td>\" \n",
    "\n",
    "                else: \n",
    "                    shiftsFD = self.schedule.get(current_day, {})\n",
    "                    morningShift = shiftsFD.get(\"7:00 AM - 1:00 PM\", \"N/A\")\n",
    "                    afternoonShift = shiftsFD.get(\"1:00 PM - 7:00 AM\", \"N/A\")\n",
    "                    html_schedule += f\"<td>{current_day}<br><b>AM:</b> {morning_shift}<br><b>PM:</b> {afternoon_shift}</td>\"\n",
    "                html_schedule += \"</tr>\"\n",
    "\n",
    "                    \n",
    "            \n",
    "        html_schedule += \"\"\"\n",
    "                    </tr>\n",
    "                </table>\n",
    "            </body>\n",
    "            </html>\n",
    "        \"\"\"\n",
    "\n",
    "        return html_schedule\n",
    "\n",
    "    def save_html(self, filename = \"availability_schedule.html\"):\n",
    "        html_content = self.html()\n",
    "        with open(\"availability_schedule.html\", \"w\") as file:\n",
    "            file.write(html_content)\n",
    "        print(\"\\nHTML schedule has been generated as 'availability_schedule.html'.\")\n",
    "\n",
    "\n",
    "\n",
    "class SchedulerApp:\n",
    "    def __init__(self):\n",
    "        self.caregivers = [Caregiver(\"Alice\"), Caregiver(\"Bob\"), Caregiver(\"Charlie\"), Caregiver(\"David\")]\n",
    "        self.schedule = Schedule(self.caregivers)\n",
    "\n",
    "\n",
    "    def run(self):\n",
    "        print(\"Set your availability for each shift\")\n",
    "\n",
    "\n",
    "        while True:\n",
    "            try:\n",
    "                year = int(input(\"Enter the year: \"))\n",
    "                month = int(input(\"Enter the month (1-12): \"))\n",
    "                if month < 1 or month > 12: \n",
    "                    print(\"Invaid month. PLease enter correct value\")\n",
    "                    continue \n",
    "                break\n",
    "\n",
    "            except ValueError:\n",
    "                print(\"Invalid input. Please enter a number\")\n",
    "                \n",
    "\n",
    "\n",
    "        self.schedule.update(year, month)\n",
    "\n",
    "\n",
    "\n",
    "        html_generator = HTMLGENERATION(self.schedule.schedule)\n",
    "        html_generator.save_html(year, month)\n",
    "\n",
    "\n",
    "if __name__ == \"__main__\":\n",
    "    app = SchedulerApp()\n",
    "    app.run()        "
   ]
  },
  {
   "cell_type": "code",
   "execution_count": null,
   "id": "c169f6a3-705b-4c0e-8ee4-67aae95d90ce",
   "metadata": {},
   "outputs": [],
   "source": []
  }
 ],
 "metadata": {
  "kernelspec": {
   "display_name": "Python 3 (ipykernel)",
   "language": "python",
   "name": "python3"
  },
  "language_info": {
   "codemirror_mode": {
    "name": "ipython",
    "version": 3
   },
   "file_extension": ".py",
   "mimetype": "text/x-python",
   "name": "python",
   "nbconvert_exporter": "python",
   "pygments_lexer": "ipython3",
   "version": "3.12.4"
  }
 },
 "nbformat": 4,
 "nbformat_minor": 5
}
