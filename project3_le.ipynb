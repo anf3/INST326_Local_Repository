{
 "cells": [
  {
   "cell_type": "code",
   "execution_count": 43,
   "id": "370055b7-6ff8-4003-b92d-884f1ab491f6",
   "metadata": {},
   "outputs": [
    {
     "data": {
      "text/plain": [
       "<__main__.App object .>"
      ]
     },
     "execution_count": 43,
     "metadata": {},
     "output_type": "execute_result"
    }
   ],
   "source": [
    "import tkinter as tk\n",
    "from tkinter import ttk, messagebox\n",
    "\n",
    "class App(tk.Tk):\n",
    "    def __init__(self, title, size):\n",
    "        super().__init__()\n",
    "        self.title(title)\n",
    "        self.geometry(f\"{size[0]}x{size[1]}\")\n",
    "        self.minsize(size[0], size[1])\n",
    "\n",
    "        self.caregiverapp = CaregiverApp(self)\n",
    "\n",
    "        self.mainloop()\n",
    "\n",
    "class Caregiver(tk.Tk):\n",
    "    def __init__(self, name, phone, email, pay_rate = 20):\n",
    "        self.name = name\n",
    "        self.phone = phone\n",
    "        self.email = email\n",
    "        self.pay_rate = pay_rate \n",
    "        self.hours = 0 \n",
    "        self.schedule = {}\n",
    "\n",
    "    def caregiver_info(self):\n",
    "        return (f\"Caregiver Name: {self.name}, Phone: {self.phone}, Email: {self.email}\")\n",
    "\n",
    "class CaregiverApp(ttk.Frame):\n",
    "    def __init__(self, parent):\n",
    "        super().__init__(parent)\n",
    "\n",
    "        self.caregivers = []\n",
    "        \n",
    "    def new_caregiver(self):\n",
    "        self.name_label = ttk.Label(parent, text = \"Enter the Caregiver's Name: \", font = \"Calibri 16 bold\")\n",
    "        self.name_label.pack()\n",
    "        self.name_entry = ttk.Entry(parent, width = 20)\n",
    "        self.name_entry.pack(pady = 10)\n",
    "\n",
    "        self.phone_label = ttk.Label(parent, text = \"Enter the Caregiver's Phone Number: \", font = \"Calibri 16 bold\")\n",
    "        self.phone_label.pack()\n",
    "        self.phone_entry = ttk.Entry(parent, width = 20)\n",
    "        self.phone_entry.pack(pady = 10)\n",
    "\n",
    "        self.email_label = ttk.Label(parent, text = \"Enter the Caregiver's Email Address: \", font = \"Calibri 16 bold\")\n",
    "        self.email_label.pack()\n",
    "        self.email_entry = ttk.Entry(parent, width = 20)\n",
    "        self.email_entry.pack(pady = 10)\n",
    "\n",
    "    def add_caregiver(self):\n",
    "        pass\n",
    "        \n",
    "App('Caregiver Schedule', (680, 655))\n",
    "            \n"
   ]
  },
  {
   "cell_type": "code",
   "execution_count": null,
   "id": "2c1b830a-8144-4b18-85f4-a9b2f51c6c91",
   "metadata": {},
   "outputs": [],
   "source": []
  }
 ],
 "metadata": {
  "kernelspec": {
   "display_name": "Python 3 (ipykernel)",
   "language": "python",
   "name": "python3"
  },
  "language_info": {
   "codemirror_mode": {
    "name": "ipython",
    "version": 3
   },
   "file_extension": ".py",
   "mimetype": "text/x-python",
   "name": "python",
   "nbconvert_exporter": "python",
   "pygments_lexer": "ipython3",
   "version": "3.12.4"
  }
 },
 "nbformat": 4,
 "nbformat_minor": 5
}
