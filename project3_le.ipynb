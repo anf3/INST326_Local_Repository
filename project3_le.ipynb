{
 "cells": [
  {
   "cell_type": "code",
   "execution_count": 37,
   "id": "370055b7-6ff8-4003-b92d-884f1ab491f6",
   "metadata": {},
   "outputs": [],
   "source": [
    "import tkinter as tk\n",
    "from tkinter import ttk, messagebox\n",
    "\n",
    "class Caregiver:\n",
    "    def __init__(self, name, phone, email, pay_rate = 20):\n",
    "        self.name = name\n",
    "        self.phone = phone\n",
    "        self.email = email\n",
    "        self.pay_rate = pay_rate \n",
    "        self.hours = 0 \n",
    "        self.schedule = {}\n",
    "\n",
    "    def caregiver_info(self):\n",
    "        return (f\"Caregiver Name: {self.name}, Phone: {self.phone}, Email: {self.email}\")\n",
    "\n",
    "class CaregiverApp:\n",
    "    def __init__(self, root):\n",
    "        self.root = root\n",
    "        self.root.title(\"Caregiver App\")\n",
    "        self.caregivers = []\n",
    "        \n",
    "    def new_caregiver(self):\n",
    "        self.name_label = ttk.Label(app, text = \"Enter the Caregiver's Name: \", font = \"Calibri 16 bold\")\n",
    "        self.name_label.pack()\n",
    "        self.name_entry = tk.Entry(app, width = 20)\n",
    "        self.name_entry.pack(pady = 10)\n",
    "\n",
    "        self.phone_label = ttk.Label(app, text = \"Enter the Caregiver's Phone Number: \", font = \"Calibri 16 bold\")\n",
    "        self.phone_label.pack()\n",
    "        self.phone_entry = tk.Entry(app, width = 20)\n",
    "        self.phone_entry.pack(pady = 10)\n",
    "\n",
    "        self.email_label = ttk.Label(app, text = \"Enter the Caregiver's Email Address: \", font = \"Calibri 16 bold\")\n",
    "        self.email_label.pack()\n",
    "        self.email_entry = tk.Entry(app, width = 20)\n",
    "        self.email_entry.pack(pady = 10)\n",
    "\n",
    "    def add_caregiver(self):\n",
    "        pass\n",
    "        \n",
    "if __name__ == \"__main__\":\n",
    "    root = tk.Tk()\n",
    "    app = CaregiverApp(root)\n",
    "    root.geometry(\"680x655\")\n",
    "    root.mainloop()\n",
    "            \n"
   ]
  },
  {
   "cell_type": "code",
   "execution_count": null,
   "id": "2c1b830a-8144-4b18-85f4-a9b2f51c6c91",
   "metadata": {},
   "outputs": [],
   "source": []
  }
 ],
 "metadata": {
  "kernelspec": {
   "display_name": "Python 3 (ipykernel)",
   "language": "python",
   "name": "python3"
  },
  "language_info": {
   "codemirror_mode": {
    "name": "ipython",
    "version": 3
   },
   "file_extension": ".py",
   "mimetype": "text/x-python",
   "name": "python",
   "nbconvert_exporter": "python",
   "pygments_lexer": "ipython3",
   "version": "3.12.4"
  }
 },
 "nbformat": 4,
 "nbformat_minor": 5
}
